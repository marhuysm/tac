{
 "metadata": {
  "language_info": {
   "codemirror_mode": {
    "name": "ipython",
    "version": 3
   },
   "file_extension": ".py",
   "mimetype": "text/x-python",
   "name": "python",
   "nbconvert_exporter": "python",
   "pygments_lexer": "ipython3",
   "version": "3.8.5-final"
  },
  "orig_nbformat": 2,
  "kernelspec": {
   "name": "python3",
   "display_name": "Python 3"
  }
 },
 "nbformat": 4,
 "nbformat_minor": 2,
 "cells": [
  {
   "cell_type": "code",
   "execution_count": 4,
   "metadata": {},
   "outputs": [],
   "source": [
    "import collections\n",
    "import os\n",
    "import string\n",
    "import sys\n",
    "\n",
    "import pandas as pd\n",
    "from nltk import word_tokenize\n",
    "from nltk.corpus import stopwords\n",
    "from pprint import pprint\n",
    "from sklearn.cluster import KMeans\n",
    "from sklearn.feature_extraction.text import TfidfVectorizer"
   ]
  },
  {
   "cell_type": "code",
   "execution_count": 5,
   "metadata": {},
   "outputs": [
    {
     "output_type": "stream",
     "name": "stderr",
     "text": [
      "[nltk_data] Downloading package punkt to /home/marie/nltk_data...\n[nltk_data]   Package punkt is already up-to-date!\n"
     ]
    },
    {
     "output_type": "execute_result",
     "data": {
      "text/plain": [
       "True"
      ]
     },
     "metadata": {},
     "execution_count": 5
    }
   ],
   "source": [
    "import nltk\n",
    "\n",
    "nltk.download('punkt')"
   ]
  },
  {
   "cell_type": "code",
   "execution_count": 6,
   "metadata": {},
   "outputs": [],
   "source": [
    "data_path = \"../data/txt/\""
   ]
  },
  {
   "source": [
    "# Choix d'une décennie et du nombre de clusters"
   ],
   "cell_type": "markdown",
   "metadata": {}
  },
  {
   "cell_type": "code",
   "execution_count": 7,
   "metadata": {},
   "outputs": [],
   "source": [
    "DECADE = '1920'\n",
    "N_CLUSTERS = 5"
   ]
  },
  {
   "source": [
    "# Chargement des fichiers de la décennie"
   ],
   "cell_type": "markdown",
   "metadata": {}
  },
  {
   "cell_type": "code",
   "execution_count": 8,
   "metadata": {},
   "outputs": [],
   "source": [
    "files = [f for f in sorted(os.listdir(data_path)) if f\"_{DECADE[:-1]}\" in f]"
   ]
  },
  {
   "cell_type": "code",
   "execution_count": 9,
   "metadata": {},
   "outputs": [
    {
     "output_type": "execute_result",
     "data": {
      "text/plain": [
       "['Bxl_1920_Tome_I2_Part_1.txt',\n",
       " 'Bxl_1920_Tome_I2_Part_10.txt',\n",
       " 'Bxl_1920_Tome_I2_Part_11.txt',\n",
       " 'Bxl_1920_Tome_I2_Part_12.txt',\n",
       " 'Bxl_1920_Tome_I2_Part_13.txt']"
      ]
     },
     "metadata": {},
     "execution_count": 9
    }
   ],
   "source": [
    "# Exemple de fichiers\n",
    "files[:5]"
   ]
  },
  {
   "cell_type": "code",
   "execution_count": 10,
   "metadata": {},
   "outputs": [],
   "source": [
    "texts = [open(data_path + f).read() for f in files]"
   ]
  },
  {
   "cell_type": "code",
   "execution_count": 11,
   "metadata": {},
   "outputs": [
    {
     "output_type": "execute_result",
     "data": {
      "text/plain": [
       "'\\x0cVILLE\\n\\nDÈ\\n\\nBRUXELLES\\n\\nBULLETIN COMMUNAL\\nA N N É E\\n\\nPREMIÈRE\\nTOME\\n\\nCOMPTE\\n\\nRENDU\\n\\n1920\\n\\nPARTIE\\nII\\n\\nDES\\n\\nSÉANCES\\n\\nBRUXELLES\\nTYPOGRAPHIE ET LITHOGRAPHIE E. GUYOT\\n12, rue P a c l i é c o ,\\n\\n1920\\n\\n12\\n\\n\\x0c\\x0cCOMPTE RENDU DE L A SÉANCE D U 1 2 J U I L L E T 1 9 2 0 .\\n\\nVILLE\\n\\nD E\\n\\nBULLETIN\\n\\nCOMMUNAL\\n\\nAnnée\\n\\nC O N S E I L\\nSéance\\n\\nB R U X E L L E S\\n\\n1920.\\n\\nC O M M U N A L\\ndu 1 2 Juillet\\n\\n1920.\\n\\nPrésidence de M'"
      ]
     },
     "metadata": {},
     "execution_count": 11
    }
   ],
   "source": [
    "# Exemple de textes\n",
    "texts[0][:400]"
   ]
  },
  {
   "source": [
    "# Vectorisation du texte"
   ],
   "cell_type": "markdown",
   "metadata": {}
  },
  {
   "cell_type": "code",
   "execution_count": 12,
   "metadata": {},
   "outputs": [],
   "source": [
    "def process_text(text, stem=True):\n",
    "    \"\"\" Tokenize text and remove punctuation \"\"\"\n",
    "    text = text.translate(string.punctuation)\n",
    "    tokens = word_tokenize(text)\n",
    "    return tokens"
   ]
  },
  {
   "cell_type": "code",
   "execution_count": 13,
   "metadata": {},
   "outputs": [],
   "source": [
    "vectorizer = TfidfVectorizer(tokenizer=process_text,\n",
    "                                stop_words=stopwords.words('french'),\n",
    "                                max_df=0.5,\n",
    "                                min_df=0.1,\n",
    "                                lowercase=True)"
   ]
  },
  {
   "cell_type": "code",
   "execution_count": 14,
   "metadata": {},
   "outputs": [
    {
     "output_type": "stream",
     "name": "stdout",
     "text": [
      "CPU times: user 33.6 s, sys: 109 ms, total: 33.7 s\nWall time: 33.8 s\n"
     ]
    }
   ],
   "source": [
    "%time tfidf_vectors = vectorizer.fit_transform(texts)"
   ]
  },
  {
   "cell_type": "code",
   "execution_count": 15,
   "metadata": {},
   "outputs": [
    {
     "output_type": "execute_result",
     "data": {
      "text/plain": [
       "<178x6665 sparse matrix of type '<class 'numpy.float64'>'\n",
       "\twith 251545 stored elements in Compressed Sparse Row format>"
      ]
     },
     "metadata": {},
     "execution_count": 15
    }
   ],
   "source": [
    "tfidf_vectors"
   ]
  },
  {
   "cell_type": "code",
   "execution_count": 13,
   "metadata": {},
   "outputs": [
    {
     "output_type": "execute_result",
     "data": {
      "text/plain": [
       "camille       0.236540\n",
       "huysmans      0.231977\n",
       "conrardy      0.221826\n",
       "hallet        0.188366\n",
       "bremaecker    0.153632\n",
       "                ...   \n",
       "literies      0.000000\n",
       "litre         0.000000\n",
       "litres        0.000000\n",
       "lits          0.000000\n",
       "#             0.000000\n",
       "Length: 6665, dtype: float64"
      ]
     },
     "metadata": {},
     "execution_count": 13
    }
   ],
   "source": [
    "# Exemple de vecteur TFIDF\n",
    "pd.Series(\n",
    "    tfidf_vectors[0].toarray()[0],\n",
    "    index=vectorizer.get_feature_names()\n",
    "    ).sort_values(ascending=False)"
   ]
  },
  {
   "source": [
    "# Clustering des vecteurs TFIDF"
   ],
   "cell_type": "markdown",
   "metadata": {}
  },
  {
   "cell_type": "code",
   "execution_count": 16,
   "metadata": {},
   "outputs": [],
   "source": [
    "km_model = KMeans(n_clusters=N_CLUSTERS)"
   ]
  },
  {
   "cell_type": "code",
   "execution_count": 17,
   "metadata": {},
   "outputs": [
    {
     "output_type": "execute_result",
     "data": {
      "text/plain": [
       "KMeans(n_clusters=5)"
      ]
     },
     "metadata": {},
     "execution_count": 17
    }
   ],
   "source": [
    "km_model.fit(tfidf_vectors)"
   ]
  },
  {
   "cell_type": "code",
   "execution_count": 18,
   "metadata": {},
   "outputs": [],
   "source": [
    "clustering = collections.defaultdict(list)\n",
    "\n",
    "for idx, label in enumerate(km_model.labels_):\n",
    "    clustering[label].append(files[idx])"
   ]
  },
  {
   "cell_type": "code",
   "execution_count": null,
   "metadata": {},
   "outputs": [],
   "source": []
  },
  {
   "cell_type": "code",
   "execution_count": 19,
   "metadata": {},
   "outputs": [
    {
     "output_type": "stream",
     "name": "stdout",
     "text": [
      "{0: ['Bxl_1920_Tome_I2_Part_12.txt',\n     'Bxl_1920_Tome_I2_Part_15.txt',\n     'Bxl_1920_Tome_I2_Part_16.txt',\n     'Bxl_1920_Tome_I2_Part_17.txt',\n     'Bxl_1920_Tome_I2_Part_18.txt',\n     'Bxl_1920_Tome_I2_Part_19.txt',\n     'Bxl_1920_Tome_I2_Part_2.txt',\n     'Bxl_1920_Tome_I2_Part_3.txt',\n     'Bxl_1921_Tome_I1_Part_4.txt',\n     'Bxl_1921_Tome_I1_Part_6.txt',\n     'Bxl_1921_Tome_I1_Part_9.txt',\n     'Bxl_1923_Tome_I1_Part_10.txt',\n     'Bxl_1923_Tome_I1_Part_7.txt',\n     'Bxl_1923_Tome_I1_Part_9.txt',\n     'Bxl_1923_Tome_I2_Part_2.txt',\n     'Bxl_1923_Tome_I2_Part_3.txt',\n     'Bxl_1923_Tome_I2_Part_4.txt',\n     'Bxl_1924_Tome_I1_Part_6.txt',\n     'Bxl_1924_Tome_I1_Part_7.txt',\n     'Bxl_1925_Tome_II1_1_Part_2.txt',\n     'Bxl_1925_Tome_II1_1_Part_3.txt',\n     'Bxl_1925_Tome_II1_1_Part_4.txt',\n     'Bxl_1925_Tome_II1_2_Part_7.txt',\n     'Bxl_1925_Tome_II1_2_Part_8.txt',\n     'Bxl_1926_Tome_I1_Part_8.txt',\n     'Bxl_1926_Tome_I1_Part_9.txt',\n     'Bxl_1926_Tome_I2_Part_15.txt',\n     'Bxl_1926_Tome_I2_Part_16.txt',\n     'Bxl_1926_Tome_I2_Part_3.txt',\n     'Bxl_1926_Tome_I2_Part_4.txt',\n     'Bxl_1926_Tome_I2_Part_5.txt',\n     'Bxl_1926_Tome_I2_Part_6.txt',\n     'Bxl_1926_Tome_II1_Part_15.txt',\n     'Bxl_1926_Tome_II1_Part_16.txt',\n     'Bxl_1926_Tome_II1_Part_3.txt',\n     'Bxl_1926_Tome_II1_Part_4.txt',\n     'Bxl_1926_Tome_II1_Part_5.txt',\n     'Bxl_1926_Tome_II1_Part_6.txt',\n     'Bxl_1927_Tome_I_Part_10.txt',\n     'Bxl_1927_Tome_I_Part_12.txt',\n     'Bxl_1927_Tome_I_Part_13.txt',\n     'Bxl_1927_Tome_I_Part_9.txt',\n     'Bxl_1928_Tome_II1_Part_12.txt',\n     'Bxl_1928_Tome_II1_Part_2.txt',\n     'Bxl_1928_Tome_II2_Part_10.txt',\n     'Bxl_1928_Tome_II2_Part_11.txt',\n     'Bxl_1928_Tome_II2_Part_12.txt',\n     'Bxl_1928_Tome_II2_Part_7.txt',\n     'Bxl_1928_Tome_II2_Part_8.txt',\n     'Bxl_1928_Tome_II2_Part_9.txt',\n     'Bxl_1929_Tome_II1_Part_3.txt',\n     'Bxl_1929_Tome_I_Part_10.txt',\n     'Bxl_1929_Tome_I_Part_4.txt',\n     'Bxl_1929_Tome_I_Part_5.txt',\n     'Bxl_1929_Tome_I_Part_6.txt',\n     'Bxl_1929_Tome_I_Part_9.txt'],\n 1: ['Bxl_1920_Tome_I2_Part_1.txt',\n     'Bxl_1920_Tome_I2_Part_13.txt',\n     'Bxl_1920_Tome_I2_Part_14.txt',\n     'Bxl_1920_Tome_I2_Part_4.txt',\n     'Bxl_1921_Tome_I1_Part_1.txt',\n     'Bxl_1921_Tome_I1_Part_2.txt',\n     'Bxl_1921_Tome_I1_Part_3.txt',\n     'Bxl_1921_Tome_I1_Part_5.txt',\n     'Bxl_1921_Tome_I1_Part_7.txt',\n     'Bxl_1921_Tome_I1_Part_8.txt',\n     'Bxl_1923_Tome_I1_Part_1.txt',\n     'Bxl_1923_Tome_I1_Part_2.txt',\n     'Bxl_1923_Tome_I1_Part_3.txt',\n     'Bxl_1923_Tome_I1_Part_4.txt',\n     'Bxl_1923_Tome_I1_Part_5.txt',\n     'Bxl_1923_Tome_I1_Part_6.txt',\n     'Bxl_1923_Tome_I1_Part_8.txt',\n     'Bxl_1923_Tome_I2_Part_1.txt',\n     'Bxl_1923_Tome_I2_Part_9.txt',\n     'Bxl_1924_Tome_I1_Part_1.txt',\n     'Bxl_1924_Tome_I1_Part_2.txt',\n     'Bxl_1924_Tome_I1_Part_3.txt',\n     'Bxl_1924_Tome_I1_Part_4.txt',\n     'Bxl_1924_Tome_I1_Part_5.txt',\n     'Bxl_1925_Tome_II1_1_Part_1.txt',\n     'Bxl_1925_Tome_II1_1_Part_5.txt',\n     'Bxl_1926_Tome_I1_Part_1.txt',\n     'Bxl_1926_Tome_I1_Part_2.txt',\n     'Bxl_1926_Tome_I1_Part_3.txt',\n     'Bxl_1926_Tome_I1_Part_4.txt',\n     'Bxl_1926_Tome_I1_Part_5.txt',\n     'Bxl_1926_Tome_I1_Part_6.txt',\n     'Bxl_1926_Tome_I1_Part_7.txt',\n     'Bxl_1926_Tome_I2_Part_1.txt',\n     'Bxl_1926_Tome_I2_Part_2.txt',\n     'Bxl_1926_Tome_I2_Part_7.txt',\n     'Bxl_1926_Tome_II1_Part_1.txt',\n     'Bxl_1926_Tome_II1_Part_2.txt',\n     'Bxl_1926_Tome_II1_Part_7.txt',\n     'Bxl_1927_Tome_I_Part_1.txt',\n     'Bxl_1927_Tome_I_Part_11.txt',\n     'Bxl_1927_Tome_I_Part_2.txt',\n     'Bxl_1927_Tome_I_Part_3.txt',\n     'Bxl_1927_Tome_I_Part_4.txt',\n     'Bxl_1927_Tome_I_Part_5.txt',\n     'Bxl_1927_Tome_I_Part_6.txt',\n     'Bxl_1927_Tome_I_Part_7.txt',\n     'Bxl_1927_Tome_I_Part_8.txt',\n     'Bxl_1928_Tome_II1_Part_1.txt',\n     'Bxl_1928_Tome_II1_Part_3.txt',\n     'Bxl_1928_Tome_II1_Part_4.txt',\n     'Bxl_1928_Tome_II2_Part_1.txt',\n     'Bxl_1928_Tome_II2_Part_2.txt',\n     'Bxl_1928_Tome_II2_Part_3.txt',\n     'Bxl_1928_Tome_II2_Part_4.txt',\n     'Bxl_1928_Tome_II2_Part_5.txt',\n     'Bxl_1928_Tome_II2_Part_6.txt',\n     'Bxl_1929_Tome_II1_Part_1.txt',\n     'Bxl_1929_Tome_II1_Part_2.txt',\n     'Bxl_1929_Tome_II1_Part_4.txt',\n     'Bxl_1929_Tome_II1_Part_5.txt',\n     'Bxl_1929_Tome_II2_Part_1.txt',\n     'Bxl_1929_Tome_II2_Part_2.txt',\n     'Bxl_1929_Tome_II2_Part_3.txt',\n     'Bxl_1929_Tome_II2_Part_4.txt',\n     'Bxl_1929_Tome_II2_Part_5.txt',\n     'Bxl_1929_Tome_II2_Part_6.txt',\n     'Bxl_1929_Tome_II2_Part_7.txt',\n     'Bxl_1929_Tome_I_Part_1.txt',\n     'Bxl_1929_Tome_I_Part_2.txt',\n     'Bxl_1929_Tome_I_Part_3.txt',\n     'Bxl_1929_Tome_I_Part_7.txt',\n     'Bxl_1929_Tome_I_Part_8.txt'],\n 2: ['Bxl_1922_Tome_II1_Part_1.txt',\n     'Bxl_1922_Tome_II1_Part_2.txt',\n     'Bxl_1922_Tome_II1_Part_3.txt',\n     'Bxl_1922_Tome_II1_Part_4.txt',\n     'Bxl_1923_Tome_II1_Part_1.txt',\n     'Bxl_1923_Tome_II1_Part_2.txt',\n     'Bxl_1923_Tome_II1_Part_3.txt'],\n 3: ['Bxl_1920_Tome_I2_Part_10.txt',\n     'Bxl_1920_Tome_I2_Part_11.txt',\n     'Bxl_1920_Tome_I2_Part_9.txt',\n     'Bxl_1925_Tome_II1_2_Part_3.txt',\n     'Bxl_1925_Tome_II1_2_Part_4.txt',\n     'Bxl_1925_Tome_II1_2_Part_5.txt',\n     'Bxl_1925_Tome_II1_2_Part_6.txt',\n     'Bxl_1926_Tome_I2_Part_12.txt',\n     'Bxl_1926_Tome_I2_Part_13.txt',\n     'Bxl_1926_Tome_I2_Part_14.txt',\n     'Bxl_1926_Tome_II1_Part_12.txt',\n     'Bxl_1926_Tome_II1_Part_13.txt',\n     'Bxl_1926_Tome_II1_Part_14.txt',\n     'Bxl_1928_Tome_II1_Part_10.txt',\n     'Bxl_1928_Tome_II1_Part_11.txt',\n     'Bxl_1928_Tome_II1_Part_9.txt'],\n 4: ['Bxl_1920_Tome_I2_Part_5.txt',\n     'Bxl_1920_Tome_I2_Part_6.txt',\n     'Bxl_1920_Tome_I2_Part_7.txt',\n     'Bxl_1920_Tome_I2_Part_8.txt',\n     'Bxl_1923_Tome_I2_Part_5.txt',\n     'Bxl_1923_Tome_I2_Part_6.txt',\n     'Bxl_1923_Tome_I2_Part_7.txt',\n     'Bxl_1923_Tome_I2_Part_8.txt',\n     'Bxl_1925_Tome_II1_1_Part_6.txt',\n     'Bxl_1925_Tome_II1_1_Part_7.txt',\n     'Bxl_1925_Tome_II1_2_Part_1.txt',\n     'Bxl_1925_Tome_II1_2_Part_2.txt',\n     'Bxl_1926_Tome_I2_Part_10.txt',\n     'Bxl_1926_Tome_I2_Part_11.txt',\n     'Bxl_1926_Tome_I2_Part_8.txt',\n     'Bxl_1926_Tome_I2_Part_9.txt',\n     'Bxl_1926_Tome_II1_Part_10.txt',\n     'Bxl_1926_Tome_II1_Part_11.txt',\n     'Bxl_1926_Tome_II1_Part_8.txt',\n     'Bxl_1926_Tome_II1_Part_9.txt',\n     'Bxl_1928_Tome_II1_Part_5.txt',\n     'Bxl_1928_Tome_II1_Part_6.txt',\n     'Bxl_1928_Tome_II1_Part_7.txt',\n     'Bxl_1928_Tome_II1_Part_8.txt',\n     'Bxl_1929_Tome_II1_Part_6.txt',\n     'Bxl_1929_Tome_II1_Part_7.txt']}\n"
     ]
    }
   ],
   "source": [
    "pprint(dict(clustering))"
   ]
  },
  {
   "cell_type": "code",
   "execution_count": null,
   "metadata": {},
   "outputs": [],
   "source": []
  }
 ]
}