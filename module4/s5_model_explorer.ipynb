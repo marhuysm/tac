{
 "metadata": {
  "language_info": {
   "codemirror_mode": {
    "name": "ipython",
    "version": 3
   },
   "file_extension": ".py",
   "mimetype": "text/x-python",
   "name": "python",
   "nbconvert_exporter": "python",
   "pygments_lexer": "ipython3",
   "version": "3.8.5-final"
  },
  "orig_nbformat": 2,
  "kernelspec": {
   "name": "python3",
   "display_name": "Python 3",
   "language": "python"
  }
 },
 "nbformat": 4,
 "nbformat_minor": 2,
 "cells": [
  {
   "cell_type": "code",
   "execution_count": 1,
   "metadata": {},
   "outputs": [],
   "source": [
    "from gensim.models import Word2Vec\n",
    "from pprint import pprint"
   ]
  },
  {
   "source": [
    "# Charger le modèle que nous venons de créer"
   ],
   "cell_type": "markdown",
   "metadata": {}
  },
  {
   "cell_type": "code",
   "execution_count": 2,
   "metadata": {},
   "outputs": [],
   "source": [
    "model = Word2Vec.load(\"../data/bulletins.model\")"
   ]
  },
  {
   "source": [
    "# Comment est représenté le mot \"rue\" ?"
   ],
   "cell_type": "markdown",
   "metadata": {}
  },
  {
   "cell_type": "code",
   "execution_count": 3,
   "metadata": {},
   "outputs": [
    {
     "output_type": "execute_result",
     "data": {
      "text/plain": [
       "array([ -2.7452955 ,  -2.5947657 , -11.57386   ,   2.8003974 ,\n",
       "         3.533418  ,   0.25216064,  -2.042303  ,   7.1801662 ,\n",
       "        -0.7532181 ,  -5.167845  ,  -2.2665648 ,  -2.6812432 ,\n",
       "         0.60209453,   3.593211  ,  -0.30640215,  -1.8891411 ,\n",
       "        11.780717  ,   2.3715327 ,  -9.548554  ,   4.718604  ,\n",
       "        -4.7973175 ,   0.30294353,  -1.5956823 ,  -5.9941964 ,\n",
       "        -9.489055  ,   4.551249  ,   4.408538  ,  -5.330427  ,\n",
       "         3.836698  ,  -1.3012367 ,  -3.566196  ,   5.68941   ],\n",
       "      dtype=float32)"
      ]
     },
     "metadata": {},
     "execution_count": 3
    }
   ],
   "source": [
    "model[\"rue\"]"
   ]
  },
  {
   "source": [
    "# Et fleuriste ?"
   ],
   "cell_type": "markdown",
   "metadata": {}
  },
  {
   "cell_type": "code",
   "execution_count": null,
   "metadata": {},
   "outputs": [],
   "source": [
    "model['fleuriste']"
   ]
  },
  {
   "cell_type": "code",
   "execution_count": 4,
   "metadata": {},
   "outputs": [
    {
     "output_type": "execute_result",
     "data": {
      "text/plain": [
       "array([-1.0401711 ,  1.6617926 , -5.778696  ,  1.2706559 , -2.0423386 ,\n",
       "       -0.8939871 , -2.0671437 ,  2.5510583 ,  3.3337471 ,  0.10658491,\n",
       "        2.3908534 ,  2.7558384 ,  0.64354575, -1.9433696 , -2.918026  ,\n",
       "        1.8804802 ,  8.145276  ,  1.225313  ,  3.4055777 ,  1.6394402 ,\n",
       "       -1.5039083 ,  2.0422711 , -3.6686916 ,  1.2892741 ,  1.0347991 ,\n",
       "        0.9617559 ,  3.9658022 , -1.9657784 ,  3.6211774 , -3.891193  ,\n",
       "       -3.5342598 , -1.3364236 ], dtype=float32)"
      ]
     },
     "metadata": {},
     "execution_count": 4
    }
   ],
   "source": [
    "model['cimetière']"
   ]
  },
  {
   "source": [
    "# Quel est leur similarité ?"
   ],
   "cell_type": "markdown",
   "metadata": {}
  },
  {
   "cell_type": "code",
   "execution_count": null,
   "metadata": {},
   "outputs": [],
   "source": [
    "model.wv.similarity(\"rue\", \"fleuriste\")"
   ]
  },
  {
   "cell_type": "code",
   "execution_count": 37,
   "metadata": {},
   "outputs": [
    {
     "output_type": "execute_result",
     "data": {
      "text/plain": [
       "0.29223776"
      ]
     },
     "metadata": {},
     "execution_count": 37
    }
   ],
   "source": [
    "model.wv.similarity(\"cimetière\", \"enterrement\")"
   ]
  },
  {
   "source": [
    "# Quel mot est le plus proche de rue ?"
   ],
   "cell_type": "markdown",
   "metadata": {}
  },
  {
   "cell_type": "code",
   "execution_count": null,
   "metadata": {},
   "outputs": [],
   "source": [
    "model.wv.most_similar(\"rue\", topn=10)"
   ]
  },
  {
   "cell_type": "code",
   "execution_count": 32,
   "metadata": {},
   "outputs": [
    {
     "output_type": "execute_result",
     "data": {
      "text/plain": [
       "[('centre_administratif', 0.8730436563491821),\n",
       " ('dépôt_mortuaire', 0.8730117082595825),\n",
       " ('magasin', 0.8618155717849731),\n",
       " ('presbytère', 0.8611737489700317),\n",
       " ('temple', 0.8571755290031433),\n",
       " ('buffet', 0.8507260084152222),\n",
       " ('parc_léopold', 0.8479956388473511),\n",
       " ('parc_public', 0.8478063344955444),\n",
       " ('domaine_public', 0.8394947648048401),\n",
       " ('canal', 0.8343798518180847),\n",
       " ('centre_sportif', 0.832253098487854),\n",
       " ('bâtiment', 0.829371452331543),\n",
       " ('pavillon', 0.8254664540290833),\n",
       " ('hameau', 0.8251692056655884),\n",
       " ('quartier_léopold', 0.8208059668540955),\n",
       " ('complexe_sportif', 0.8196770548820496),\n",
       " ('local', 0.8194408416748047),\n",
       " ('chœur', 0.8180556297302246),\n",
       " ('porche', 0.8143446445465088),\n",
       " ('parc', 0.8128125071525574),\n",
       " ('refuge', 0.8085152506828308),\n",
       " ('profil', 0.8054397702217102),\n",
       " ('fronton', 0.8048251867294312),\n",
       " ('marché_matinal', 0.8036667108535767),\n",
       " ('second_étage', 0.8036377429962158),\n",
       " ('quartier_louise', 0.8008214235305786),\n",
       " ('nouvel_hôpital', 0.8005293607711792),\n",
       " ('dommage_causé', 0.7995309829711914),\n",
       " ('plateau', 0.7974241375923157),\n",
       " ('ring', 0.7949115037918091),\n",
       " ('logement', 0.7935950756072998),\n",
       " ('tir_national', 0.7927661538124084),\n",
       " ('locataire', 0.7911894917488098),\n",
       " ('bâtiment_principal', 0.7910271883010864),\n",
       " ('square', 0.7865573763847351),\n",
       " ('kiosque', 0.7865195274353027),\n",
       " ('premier_étage', 0.7857341170310974),\n",
       " ('quartier_maritime', 0.7853752374649048),\n",
       " ('bétail', 0.7827003002166748),\n",
       " ('bain_royal', 0.7817702293395996)]"
      ]
     },
     "metadata": {},
     "execution_count": 32
    }
   ],
   "source": [
    "model.wv.most_similar(\"cimetière\", topn=40)"
   ]
  },
  {
   "source": [
    "# Et de Bruxelles ?"
   ],
   "cell_type": "markdown",
   "metadata": {}
  },
  {
   "cell_type": "code",
   "execution_count": null,
   "metadata": {},
   "outputs": [],
   "source": [
    "model.wv.most_similar(\"bruxelles\")"
   ]
  },
  {
   "source": [
    "# Comment obtenir une ville de France grâce à notre modèle ?"
   ],
   "cell_type": "markdown",
   "metadata": {}
  },
  {
   "cell_type": "code",
   "execution_count": null,
   "metadata": {},
   "outputs": [],
   "source": [
    "model.wv.most_similar(positive=['bruxelles', 'france'], negative=['belgique'], topn=1)"
   ]
  },
  {
   "cell_type": "code",
   "execution_count": null,
   "metadata": {},
   "outputs": [],
   "source": [
    "model.wv.most_similar(positive=['bruxelles', 'liege', 'france'], negative=['belgique'], topn=1)"
   ]
  },
  {
   "cell_type": "code",
   "execution_count": null,
   "metadata": {},
   "outputs": [],
   "source": []
  },
  {
   "cell_type": "code",
   "execution_count": null,
   "metadata": {},
   "outputs": [],
   "source": [
    "model.wv.index2entity[:100]"
   ]
  }
 ]
}